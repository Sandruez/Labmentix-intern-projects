{
 "cells": [
  {
   "cell_type": "markdown",
   "metadata": {
    "id": "vncDsAP0Gaoa"
   },
   "source": [
    "# **Project Name**    - Zomato Insights Engine: Clustering & Sentiment Intelligence\n",
    "\n"
   ]
  },
  {
   "cell_type": "markdown",
   "metadata": {
    "id": "beRrZCGUAJYm"
   },
   "source": [
    "##### **Project Type**    - EDA/Unsupervised\n",
    "##### **Contribution**    - Individual\n",
    "##### **Team Member 1 -Chandraprakash kahar\n"
   ]
  },
  {
   "cell_type": "markdown",
   "metadata": {
    "id": "FJNUwmbgGyua"
   },
   "source": [
    "# **Project Summary -**"
   ]
  },
  {
   "cell_type": "markdown",
   "metadata": {
    "id": "F6v_1wHtG2nS"
   },
   "source": [
    "This project is all about understanding what customers are saying about restaurants on Zomato and using that information to help both users and the company. By analyzing customer reviews, we figure out whether people are happy or unhappy with their experience (sentiment analysis). We also group (cluster) restaurants based on different things like food type, cost, ratings, and review sentiment.\n",
    "\n",
    "We use visual charts and graphs to make the data easier to understand at a glance. This helps customers quickly find the best restaurants in their area, and it helps Zomato see where restaurants are doing well or need improvement.\n",
    "\n",
    "We also look at other useful details, like how much meals cost compared to customer satisfaction, and who the reviewers are — identifying regular foodies or critics. All of this helps Zomato make better decisions and improve their services.\n"
   ]
  },
  {
   "cell_type": "markdown",
   "metadata": {
    "id": "w6K7xa23Elo4"
   },
   "source": [
    "# **GitHub Link -**"
   ]
  },
  {
   "cell_type": "markdown",
   "metadata": {
    "id": "h1o69JH3Eqqn"
   },
   "source": [
    "(https://github.com/Sandruez/Labmentix-intern-projects/tree/master/Zomato%20project)"
   ]
  },
  {
   "cell_type": "markdown",
   "metadata": {
    "id": "yQaldy8SH6Dl"
   },
   "source": [
    "# **Problem Statement**\n"
   ]
  },
  {
   "cell_type": "markdown",
   "metadata": {
    "id": "DpeJGUA3kjGy"
   },
   "source": [
    "Zomato, as a food delivery and restaurant discovery platform, receives a large volume of customer reviews and restaurant data. However, this raw data is unorganized and difficult to interpret without proper analysis. There is a need to:\n",
    "\n",
    "* Understand customer sentiments from reviews to identify strengths and\n",
    "weaknesses of restaurants.\n",
    "\n",
    "* Help customers easily find the best restaurants based on their preferences and location.\n",
    "\n",
    "* Assist Zomato in identifying areas where restaurants can improve.\n",
    "\n",
    "* Segment (cluster) restaurants into meaningful groups for better business targeting.\n",
    "\n",
    "* Use metadata, such as review patterns and reviewer profiles, to identify key influencers or food critics.\n",
    "\n",
    "* Analyze the relationship between cuisine types, cost, and customer satisfaction to support business and pricing decisions.\n",
    "\n",
    "The project aims to solve these issues through sentiment analysis, clustering, and visual data representation to drive value for both customers and the company."
   ]
  },
  {
   "cell_type": "markdown",
   "metadata": {
    "id": "mDgbUHAGgjLW"
   },
   "source": [
    "# **General Guidelines** : -  "
   ]
  },
  {
   "cell_type": "markdown",
   "metadata": {
    "id": "ZrxVaUj-hHfC"
   },
   "source": [
    "1.   Well-structured, formatted, and commented code is required.\n",
    "2.   Exception Handling, Production Grade Code & Deployment Ready Code will be a plus. Those students will be awarded some additional credits.\n",
    "     \n",
    "     The additional credits will have advantages over other students during Star Student selection.\n",
    "       \n",
    "             [ Note: - Deployment Ready Code is defined as, the whole .ipynb notebook should be executable in one go\n",
    "                       without a single error logged. ]\n",
    "\n",
    "3.   Each and every logic should have proper comments.\n",
    "4. You may add as many number of charts you want. Make Sure for each and every chart the following format should be answered.\n",
    "        \n",
    "\n",
    "```\n",
    "# Chart visualization code\n",
    "```\n",
    "            \n",
    "\n",
    "*   Why did you pick the specific chart?\n",
    "*   What is/are the insight(s) found from the chart?\n",
    "* Will the gained insights help creating a positive business impact?\n",
    "Are there any insights that lead to negative growth? Justify with specific reason.\n",
    "\n",
    "5. You have to create at least 15 logical & meaningful charts having important insights.\n",
    "\n",
    "\n",
    "[ Hints : - Do the Vizualization in  a structured way while following \"UBM\" Rule.\n",
    "\n",
    "U - Univariate Analysis,\n",
    "\n",
    "B - Bivariate Analysis (Numerical - Categorical, Numerical - Numerical, Categorical - Categorical)\n",
    "\n",
    "M - Multivariate Analysis\n",
    " ]\n",
    "\n",
    "\n",
    "\n",
    "\n",
    "\n",
    "6. You may add more ml algorithms for model creation. Make sure for each and every algorithm, the following format should be answered.\n",
    "\n",
    "\n",
    "*   Explain the ML Model used and it's performance using Evaluation metric Score Chart.\n",
    "\n",
    "\n",
    "*   Cross- Validation & Hyperparameter Tuning\n",
    "\n",
    "*   Have you seen any improvement? Note down the improvement with updates Evaluation metric Score Chart.\n",
    "\n",
    "*   Explain each evaluation metric's indication towards business and the business impact pf the ML model used.\n",
    "\n",
    "\n",
    "\n",
    "\n",
    "\n",
    "\n",
    "\n",
    "\n",
    "\n",
    "\n",
    "\n",
    "\n",
    "\n",
    "\n",
    "\n",
    "\n",
    "\n",
    "\n"
   ]
  },
  {
   "cell_type": "markdown",
   "metadata": {
    "id": "zl76UaZwSzac"
   },
   "source": []
  },
  {
   "cell_type": "markdown",
   "metadata": {
    "id": "tUWR-gcGS6JM"
   },
   "source": [
    "# 🔧 Environment Setup\n",
    "\n",
    "Run the cell below to install all required Python libraries and download NLP resources for sentiment analysis and clustering. This will prevent any missing module errors.\n"
   ]
  },
  {
   "cell_type": "markdown",
   "metadata": {
    "id": "O_i_v8NEhb9l"
   },
   "source": [
    "# ***Let's Begin !***"
   ]
  },
  {
   "cell_type": "markdown",
   "metadata": {
    "id": "HhfV-JJviCcP"
   },
   "source": [
    "## ***1. Know Your Data***"
   ]
  },
  {
   "cell_type": "markdown",
   "metadata": {
    "id": "Y3lxredqlCYt"
   },
   "source": [
    "### Import Libraries"
   ]
  },
  {
   "cell_type": "markdown",
   "metadata": {
    "id": "2Uwa1_35Sp_P"
   },
   "source": []
  },
  {
   "cell_type": "code",
   "execution_count": null,
   "metadata": {
    "id": "M8Vqi-pPk-HR"
   },
   "outputs": [],
   "source": [
    "# 📦 Install Required Libraries\n",
    "!pip install -q textblob nltk wordcloud scikit-learn-extra\n",
    "\n",
    "# 📚 Import Common Libraries\n",
    "import os\n",
    "import pandas as pd\n",
    "import numpy as np\n",
    "import matplotlib.pyplot as plt\n",
    "import seaborn as sns\n",
    "import re\n",
    "import string\n",
    "\n",
    "# ⚙️ Sklearn Libraries\n",
    "from sklearn.cluster import KMeans, DBSCAN, AgglomerativeClustering\n",
    "from sklearn.preprocessing import StandardScaler\n",
    "from sklearn.metrics import silhouette_score, davies_bouldin_score\n",
    "from sklearn.feature_extraction.text import TfidfVectorizer\n",
    "from sklearn.decomposition import PCA\n",
    "\n",
    "# 🧠 NLP Libraries\n",
    "import nltk\n",
    "from nltk.corpus import stopwords\n",
    "from nltk.tokenize import word_tokenize\n",
    "from textblob import TextBlob\n",
    "import textblob.download_corpora\n",
    "\n",
    "# 📥 Download NLP Resources\n",
    "nltk.download('punkt')\n",
    "nltk.download('stopwords')\n",
    "textblob.download_corpora.download_all()\n",
    "\n",
    "\n",
    "\n",
    "print(\"✅ Setup complete! All libraries installed and ready.\")\n"
   ]
  },
  {
   "cell_type": "markdown",
   "metadata": {
    "id": "3RnN4peoiCZX"
   },
   "source": [
    "### Dataset Loading"
   ]
  },
  {
   "cell_type": "code",
   "execution_count": null,
   "metadata": {
    "id": "4CkvbW_SlZ_R"
   },
   "outputs": [],
   "source": [
    "\n",
    "# Try loading from local directory\n",
    "if os.path.exists(\"restaurant_data.csv\") and os.path.exists(\"review_data.csv\"):\n",
    "    restaurant_df = pd.read_csv(\"Zomato Restaurant names and Metadata.csv\")\n",
    "    review_df = pd.read_csv(\"Zomato Restaurant reviews.csv\")\n",
    "else:\n",
    "    from google.colab import drive\n",
    "    drive.mount('/content/drive')\n",
    "    restaurant_df = pd.read_csv('/content/drive/MyDrive/Labmentix intern projects/Zomato project/Zomato Restaurant names and Metadata.csv')\n",
    "    review_df = pd.read_csv('/content/drive/MyDrive/Labmentix intern projects/Zomato project/Zomato Restaurant reviews.csv')\n"
   ]
  },
  {
   "cell_type": "markdown",
   "metadata": {
    "id": "x71ZqKXriCWQ"
   },
   "source": [
    "### Dataset First View"
   ]
  },
  {
   "cell_type": "code",
   "execution_count": null,
   "metadata": {
    "id": "LWNFOSvLl09H"
   },
   "outputs": [],
   "source": [
    "# Dataset First Look\n",
    "#first Look of restaurant dataframe\n",
    "restaurant_df.head()\n",
    "review_df.head()\n",
    "#first Look of review dataframe"
   ]
  },
  {
   "cell_type": "markdown",
   "metadata": {
    "id": "7hBIi_osiCS2"
   },
   "source": [
    "### Dataset Rows & Columns count"
   ]
  },
  {
   "cell_type": "code",
   "execution_count": null,
   "metadata": {
    "id": "Kllu7SJgmLij"
   },
   "outputs": [],
   "source": [
    "# Dataset Rows & Columns count\n",
    "print(\"Restorent dataset:\\n\",\"Rows:\", restaurant_df.shape[0],\"\\n\",\"Columns:\",restaurant_df.shape[1],\"\\n\")\n",
    "print(\"review_df dataset:\\n\",\"Rows:\", review_df.shape[0],\"\\n\",\"Columns:\",review_df.shape[1],\"\\n\")\n"
   ]
  },
  {
   "cell_type": "markdown",
   "metadata": {
    "id": "JlHwYmJAmNHm"
   },
   "source": [
    "### Dataset Information"
   ]
  },
  {
   "cell_type": "code",
   "execution_count": null,
   "metadata": {
    "id": "e9hRXRi6meOf"
   },
   "outputs": [],
   "source": [
    "# Dataset Info\n",
    "# restaurant_df DataFrame features/columns informations\n",
    "restaurant_df.info()\n",
    "# review DataFrame features / columns informations\n",
    "review_df.info()"
   ]
  },
  {
   "cell_type": "markdown",
   "metadata": {
    "id": "35m5QtbWiB9F"
   },
   "source": [
    "####  Handling Duplicate Values"
   ]
  },
  {
   "cell_type": "code",
   "execution_count": null,
   "metadata": {
    "id": "1sLdpKYkmox0"
   },
   "outputs": [],
   "source": [
    "# Dataset Duplicate Value Count\n",
    "\n",
    "duplicate_rows_in_restaurant_df=restaurant_df.duplicated().sum()\n",
    "print(f\"Number of duplicate rows in restaurant data: {duplicate_rows_in_restaurant_df}\\n\")\n",
    "\n",
    "duplicate_rows_in_review_df=review_df.duplicated().sum()\n",
    "print(f\"Number of duplicate rows in review data: {duplicate_rows_in_review_df}\")\n",
    "\n",
    "print(review_df[review_df.duplicated(keep=\"first\")].shape)\n",
    "# unique_rows_in_review_df Dataframe contains unque rows with respect to the all columns values done by using duplicate() method.\n",
    "#review_df.drop_duplicates(keep=\"last\") keep the last one duplicate value..\n",
    "unique_rows_in_review_df=review_df.drop_duplicates(keep=\"last\")\n",
    "\n",
    "unique_rows_in_review_df.shape\n",
    "\n",
    "## After removing duplicate rows..\n",
    "print(\"After removing duplicate rows..\\n\")\n",
    "duplicate_rows_in_restaurant_df=restaurant_df.duplicated().sum()\n",
    "print(f\"Number of duplicate rows in restaurant data: {duplicate_rows_in_restaurant_df}\\n\")\n",
    "\n",
    "duplicate_rows_in_review_df=unique_rows_in_review_df.duplicated().sum()\n",
    "print(f\"Number of duplicate rows in review data: {duplicate_rows_in_review_df}\")\n"
   ]
  },
  {
   "cell_type": "markdown",
   "metadata": {
    "id": "PoPl-ycgm1ru"
   },
   "source": [
    "#### Analysing  Missing Values/Null Values in Datasets"
   ]
  },
  {
   "cell_type": "code",
   "execution_count": null,
   "metadata": {
    "id": "GgHWkxvamxVg"
   },
   "outputs": [],
   "source": [
    "# Missing Values/Null Values Count\n",
    "print(\"missing values in restaurant data\\n\",restaurant_df.isna().sum(),\"\\n\")\n",
    "print(\"missing values in review data\\n\",unique_rows_in_review_df.isna().sum(),\"\\n\")\n",
    "print(len(restaurant_df))\n",
    "print(len(unique_rows_in_review_df))\n",
    "\n"
   ]
  },
  {
   "cell_type": "code",
   "execution_count": null,
   "metadata": {
    "id": "-N5mXhjWJu4L"
   },
   "outputs": [],
   "source": [
    "# Visualizing the missing values\n",
    "%matplotlib inline\n",
    "#plt.figure(figsize=(10,6))\n",
    "missing_values=(restaurant_df.isna().sum()/len(restaurant_df))*100\n",
    "missing_values.plot(kind='bar',color= 'skyblue')\n",
    "\n",
    "\n",
    "# Set plot labels and title\n",
    "plt.title('Missing Values in Each Column', fontsize=14)\n",
    "plt.xlabel('Columns', fontsize=12)\n",
    "plt.ylabel('Number of Missing Values in %', fontsize=12)\n",
    "\n",
    "# Show the plot\n",
    "plt.xticks(rotation=45, ha='right')  # Rotate x-axis labels for better readability\n",
    "plt.tight_layout()\n",
    "plt.show()"
   ]
  },
  {
   "cell_type": "code",
   "execution_count": null,
   "metadata": {
    "id": "3q5wnI3om9sJ"
   },
   "outputs": [],
   "source": [
    "# Visualizing the missing values\n",
    "\n",
    "#plt.figure(figsize=(10,6))\n",
    "missing_values=(unique_rows_in_review_df.isna().sum()/len(unique_rows_in_review_df))*100\n",
    "missing_values.plot(kind='bar',color= 'skyblue')\n",
    "\n",
    "# Set plot labels and title\n",
    "plt.title('Missing Values in Each Column', fontsize=14)\n",
    "plt.xlabel('Columns', fontsize=12)\n",
    "plt.ylabel('Number of Missing Values in %', fontsize=12)\n",
    "\n",
    "# Show the plot\n",
    "plt.xticks(rotation=45, ha='right')  # Rotate x-axis labels for better readability\n",
    "plt.tight_layout()\n",
    "plt.show()"
   ]
  },
  {
   "cell_type": "markdown",
   "metadata": {
    "id": "gfoNAAC-nUe_"
   },
   "source": [
    "Answer Here"
   ]
  },
  {
   "cell_type": "markdown",
   "metadata": {
    "id": "nA9Y7ga8ng1Z"
   },
   "source": [
    "## ***2. Understanding Your Variables***"
   ]
  },
  {
   "cell_type": "code",
   "execution_count": null,
   "metadata": {
    "id": "j7xfkqrt5Ag5"
   },
   "outputs": [],
   "source": [
    "# Dataset Columns\n",
    "#Restaurant dataset columns ..\n",
    "print(restaurant_df.columns)\n",
    "\n",
    "\n",
    "#Review dataset columns ..\n",
    "print(unique_rows_in_review_df.columns)\n"
   ]
  },
  {
   "cell_type": "code",
   "execution_count": null,
   "metadata": {
    "id": "DnOaZdaE5Q5t"
   },
   "outputs": [],
   "source": [
    "# Dataset Describe\n",
    "\n",
    "# Dataset 1: Restaurant Data\n",
    "# Description: Contains metadata about restaurants, scraped from Zomato platforms.\n",
    "\n",
    "#Dataset 2: Review Data\n",
    "#Description: User-generated reviews for restaurants in Dataset 1.\n",
    "\n"
   ]
  },
  {
   "cell_type": "markdown",
   "metadata": {
    "id": "PBTbrJXOngz2"
   },
   "source": [
    "### Variables Description"
   ]
  },
  {
   "cell_type": "markdown",
   "metadata": {
    "id": "aJV4KIxSnxay"
   },
   "source": [
    "Dataset 1: Restaurant Data\n",
    "Description: Contains metadata about restaurants\n",
    "\n",
    "Fields/features:\n",
    "\n",
    " * Name: Restaurant name (text)\n",
    "\n",
    "   Example: \"Spice Valley\", \"The Pasta Factory\"\n",
    "\n",
    " * Links: URL to restaurant page (web links)\n",
    "  \n",
    "   Analytical Use: Could extract domain patterns or link popularity.\n",
    "\n",
    " * Cost: Estimated per-person dining cost (numerical)\n",
    "  \n",
    "   Type: Continuous (e.g., ₹500, ₹1500)\n",
    "  \n",
    "   Key Metric: Price positioning of restaurants.\n",
    "\n",
    " * Collection: Zomato's categorization tags (categorical)\n",
    "  \n",
    "   Use: Segment restaurants by type.\n",
    "\n",
    " * Cuisines: Served cuisines (multi-label categorical)\n",
    "  \n",
    "   Format: Often comma-separated (e.g., \"Italian, Mediterranean\")\n",
    "\n",
    "\n",
    "\n",
    "\n",
    "---\n",
    "\n",
    "\n",
    "\n",
    "\n",
    "\n",
    "\n",
    "Dataset 2: Review Data\n",
    "Description: User-generated reviews for restaurants in Dataset 1.\n",
    "\n",
    " Fields/Features:\n",
    "\n",
    " * Review: Text content of reviews (text)\n",
    "\n",
    "  Analytical Use: Sentiment analysis, keyword extraction.\n",
    "\n",
    " * Reviewer: Reviewer name (text)\n",
    "\n",
    "   Use: Identify frequent reviewers (optional anonymization).\n",
    "\n",
    " * Rating: Numerical rating (ordinal)\n",
    "\n",
    "   Scale: Likely 1–5 (stars).\n",
    "\n",
    " * MetaData: Reviewer’s profile stats (text)\n",
    "\n",
    "   Format: \"X reviews, Y followers\" (e.g., \"50 reviews, 200 followers\")\n",
    "\n",
    " * Time: Timestamp of review (datetime)\n",
    "\n",
    "   Use: Trend analysis (e.g., rating changes over time).\n",
    "\n",
    " * Pictures: Count of images in review (numerical)\n",
    "   \n",
    "   Use: Correlate visual content with rating/sentiment.\n",
    "\n",
    "\n"
   ]
  },
  {
   "cell_type": "markdown",
   "metadata": {
    "id": "u3PMJOP6ngxN"
   },
   "source": [
    "### Check Unique Values for each variable."
   ]
  },
  {
   "cell_type": "code",
   "execution_count": null,
   "metadata": {
    "id": "zms12Yq5n-jE"
   },
   "outputs": [],
   "source": [
    "# Check Unique Values for each variable.\n",
    "def print_unique_values(df):\n",
    "  data={}\n",
    "  for col in df.columns:\n",
    "    data[col]=len(df[col].unique())\n",
    "\n",
    "  for (key,value) in data.items():\n",
    "    print(f\"unique value counts of {key} are :{value}\")\n",
    "\n",
    "  print(\"\\n\")"
   ]
  },
  {
   "cell_type": "code",
   "execution_count": null,
   "metadata": {
    "id": "FCz2_l7VXT4G"
   },
   "outputs": [],
   "source": [
    "\n",
    "## Unique Values for each variable in Restaurant dataset...\n",
    "print_unique_values(restaurant_df)\n",
    "\n",
    "## Unique Values for each variable in Restaurant dataset...\n",
    "print_unique_values(review_df)"
   ]
  },
  {
   "cell_type": "markdown",
   "metadata": {
    "id": "dauF4eBmngu3"
   },
   "source": [
    "## 3. ***Data Wrangling***"
   ]
  },
  {
   "cell_type": "markdown",
   "metadata": {
    "id": "bKJF3rekwFvQ"
   },
   "source": [
    "### Data Wrangling Code along with Feature Engineering & Data Pre-processing"
   ]
  },
  {
   "cell_type": "code",
   "execution_count": null,
   "metadata": {
    "id": "wk-9a2fpoLcV"
   },
   "outputs": [],
   "source": [
    "import warnings\n",
    "warnings.filterwarnings('ignore')\n",
    "# Write your code to make your dataset analysis ready.\n",
    "\n",
    "\n",
    "# 1.Turning cost feature/column in numerical format/dataType via..\n",
    "restaurant_df['Cost']=(\n",
    "    restaurant_df[\"Cost\"].astype(str)\n",
    "    .str.replace(r\"[₹$,€£]\", \"\", regex=True)  # Remove currency symbols\n",
    "    .str.replace(\",\", \"\")                     # Remove thousands separators\n",
    "    .astype(float)                            # Convert to numeric\n",
    ")\n",
    "\n",
    "#print(restaurant_df['Cost'].dtype)\n",
    "#restaurant_df.head()\n",
    "\n",
    "## ..Dealing with missing values in restaurant dataset and review data set...\n",
    "\n",
    "\n",
    "# Restaurant Data Missing Value Treatment\n",
    " #1. Name\n",
    "restaurant_df = restaurant_df.dropna(subset=['Name'])\n",
    "\n",
    " #2. Links\n",
    "restaurant_df['Links'] = restaurant_df['Links'].fillna('URL not available')\n",
    "\n",
    " #3.Cost\n",
    "restaurant_df['Cost'] = restaurant_df.groupby(['Collections', 'Cuisines'])['Cost'].transform(\n",
    "    lambda x: x.fillna(x.median() if not np.isnan(x.median()) else restaurant_df['Cost'].median())\n",
    ")\n",
    "\n",
    " #4.Collation\n",
    "restaurant_df['Collections'] = restaurant_df['Collections'].fillna('Unknown')\n",
    "\n",
    " #5.Cuisines\n",
    "restaurant_df['Cuisines'] = restaurant_df['Cuisines'].fillna('Other')\n",
    "\n",
    "#6.Timings\n",
    "mode_time = restaurant_df['Timings'].mode()\n",
    "if not mode_time.empty:\n",
    "    fill_time = mode_time[0]\n",
    "else:\n",
    "    # Fallback to median time if no mode exists\n",
    "    fill_time = restaurant_df['Timings'].median() if not restaurant_df['Timings'].isna().all() else pd.Timestamp.now()\n",
    "\n",
    "# Fill missing values\n",
    "restaurant_df['Timings'] = restaurant_df['Timings'].fillna(fill_time)\n",
    "\n",
    "\n",
    "## Review Data Missing Value Treatment\n",
    "#1. Review\n",
    "unique_rows_in_review_df['Review'] = unique_rows_in_review_df.apply(\n",
    "    lambda x: f\"Rating: {x['Rating']}\" if pd.isna(x['Review']) else x['Review'],\n",
    "    axis=1\n",
    ")\n",
    "#2. Reviewer\n",
    "unique_rows_in_review_df['Reviewer'] = unique_rows_in_review_df['Reviewer'].fillna('Anonymous')\n",
    "\n",
    "#3. Rating\n",
    "from textblob import TextBlob\n",
    "unique_rows_in_review_df['Rating'] = unique_rows_in_review_df.apply(\n",
    "    lambda x:2.5\n",
    "    if pd.isna(x['Rating']) else x['Rating'],\n",
    "    axis=1\n",
    ")\n",
    "\n",
    "#unique_rows_in_review_df['Rating'] = pd.to_numeric(unique_rows_in_review_df['Rating'], errors='coerce')\n",
    "\n",
    "\n",
    "#4. MetaData\n",
    "unique_rows_in_review_df['Reviewer_Reviews'] = unique_rows_in_review_df['Metadata'].str.extract(r'(\\d+) Reviews')\n",
    "unique_rows_in_review_df['Reviewer_Reviews'] = unique_rows_in_review_df['Metadata'].str.extract(r'(\\d+) Review')\n",
    "unique_rows_in_review_df['Reviewer_Reviews'] =unique_rows_in_review_df['Reviewer_Reviews'].fillna(0).astype(int)\n",
    "unique_rows_in_review_df['Reviewer_Followers'] = unique_rows_in_review_df['Metadata'].str.extract(r'(\\d+) Followers')\n",
    "unique_rows_in_review_df['Reviewer_Followers'] = unique_rows_in_review_df['Metadata'].str.extract(r'(\\d+) Follower')\n",
    "unique_rows_in_review_df['Reviewer_Followers']=unique_rows_in_review_df['Reviewer_Followers'].fillna(0).astype(int)\n",
    "unique_rows_in_review_df['Metadata']=unique_rows_in_review_df['Metadata'].fillna('0 reviews , 0 followers')\n",
    "\n",
    "# 5. Time\n",
    "#Dealing with missing Time values by filling them mode or media or current time..\n",
    "# Convert to datetime with exact format\n",
    "unique_rows_in_review_df['Time'] = pd.to_datetime(unique_rows_in_review_df['Time'], format='%m/%d/%Y %H:%M', errors='coerce')\n",
    "\n",
    "# Get mode while preserving datetime type\n",
    "mode_time = unique_rows_in_review_df['Time'].mode()\n",
    "if not mode_time.empty:\n",
    "    fill_time = mode_time[0]\n",
    "else:\n",
    "    # Fallback to median time if no mode exists\n",
    "    fill_time = unique_rows_in_review_df['Time'].median() if not review_df['Time'].isna().all() else pd.Timestamp.now()\n",
    "\n",
    "# Fill missing values\n",
    "unique_rows_in_review_df['Time'] = unique_rows_in_review_df['Time'].fillna(fill_time)\n",
    "\n",
    "# Convert back to original string format\n",
    "unique_rows_in_review_df['Time'] = unique_rows_in_review_df['Time'].dt.strftime('%m/%d/%Y %H:%M')\n",
    "\n",
    "\n",
    "#6. Pictures\n",
    "unique_rows_in_review_df['Pictures'] = unique_rows_in_review_df['Pictures'].fillna(0);"
   ]
  },
  {
   "cell_type": "code",
   "execution_count": null,
   "metadata": {
    "id": "7ZxTcs56GFxo"
   },
   "outputs": [],
   "source": [
    "\n",
    "##Handling cost feature\n",
    "restaurant_df['Cost'] = restaurant_df.groupby(['Collections', 'Cuisines'])['Cost'].transform(\n",
    "    lambda x: x.fillna(x.median() if not np.isnan(x.median()) else restaurant_df['Cost'].median())\n",
    ")\n",
    "unique_rows_in_review_df['Rating'].isna().sum()\n",
    "print(len(restaurant_df.Cost.value_counts()))"
   ]
  },
  {
   "cell_type": "markdown",
   "metadata": {
    "id": "XlqMK5bxy-55"
   },
   "source": []
  },
  {
   "cell_type": "code",
   "execution_count": null,
   "metadata": {
    "id": "hVY2DREt0MXM"
   },
   "outputs": [],
   "source": [
    "restaurant_df.info()\n",
    "unique_rows_in_review_df.info()\n",
    "print(restaurant_df.isna().sum())\n",
    "print(unique_rows_in_review_df.isna().sum())"
   ]
  },
  {
   "cell_type": "code",
   "execution_count": null,
   "metadata": {
    "id": "HgIHMLX_98uZ"
   },
   "outputs": [],
   "source": [
    "unique_rows_in_review_df.shape\n",
    "print(len(restaurant_df.Cost.value_counts()))\n",
    "unique_rows_in_review_df.columns"
   ]
  },
  {
   "cell_type": "markdown",
   "metadata": {
    "id": "MSa1f5Uengrz"
   },
   "source": [
    "### What all manipulations have you done and insights you found?"
   ]
  },
  {
   "cell_type": "markdown",
   "metadata": {
    "id": "LbyXE7I1olp8"
   },
   "source": [
    "Answer Here\n"
   ]
  },
  {
   "cell_type": "markdown",
   "metadata": {
    "id": "GF8Ens_Soomf"
   },
   "source": [
    "## ***4. Data Vizualization, Storytelling & Experimenting with charts : Understand the relationships between variables***"
   ]
  },
  {
   "cell_type": "code",
   "execution_count": null,
   "metadata": {
    "id": "Tgj1kJo58_MQ"
   },
   "outputs": [],
   "source": [
    "from collections import Counter"
   ]
  },
  {
   "cell_type": "markdown",
   "metadata": {
    "id": "0wOQAZs5pc--"
   },
   "source": [
    "#### Chart - 1"
   ]
  },
  {
   "cell_type": "code",
   "execution_count": null,
   "metadata": {
    "id": "7v_ESjsspbW7"
   },
   "outputs": [],
   "source": [
    "#Chart 1: Distribution of Restaurant Cost\n",
    "\n",
    "plt.figure(figsize=(10,6))\n",
    "sns.histplot(restaurant_df['Cost'], bins=20, kde=True, color='orange')\n",
    "plt.title('Distribution of Restaurant Cost')\n",
    "plt.xlabel('Cost for Two')\n",
    "plt.ylabel('Frequency')\n",
    "plt.grid(True)\n",
    "plt.show()\n",
    "\n"
   ]
  },
  {
   "cell_type": "markdown",
   "metadata": {
    "id": "K5QZ13OEpz2H"
   },
   "source": [
    "##### 1. Why did you pick the specific chart?"
   ]
  },
  {
   "cell_type": "markdown",
   "metadata": {
    "id": "XESiWehPqBRc"
   },
   "source": [
    " Helps understand the general pricing range."
   ]
  },
  {
   "cell_type": "markdown",
   "metadata": {
    "id": "lQ7QKXXCp7Bj"
   },
   "source": [
    "##### 2. What is/are the insight(s) found from the chart?\n",
    "\n",
    "insight: Luxury and Fine Dining are high-cost; Cafés and Quick Bites are budget-friendly."
   ]
  },
  {
   "cell_type": "code",
   "execution_count": null,
   "metadata": {
    "id": "8zQdmE1UOXKk"
   },
   "outputs": [],
   "source": [
    "##Insights\n",
    "top_prices = Counter(restaurant_df['Cost']).most_common(10)\n",
    "\n",
    "prices, counts = zip(*top_prices)\n",
    "\n",
    "top_price=prices[np.argmax(counts)]\n",
    "print(top_price,\"price has highest frequently.\")"
   ]
  },
  {
   "cell_type": "markdown",
   "metadata": {
    "id": "3Z5F-daXx-cM"
   },
   "source": [
    "Tells us whether the platform has more budget, mid-range, or premium options.\n",
    "\n"
   ]
  },
  {
   "cell_type": "markdown",
   "metadata": {
    "id": "C_j1G7yiqdRP"
   },
   "source": []
  },
  {
   "cell_type": "markdown",
   "metadata": {
    "id": "448CDAPjqfQr"
   },
   "source": [
    "##### 3. Will the gained insights help creating a positive business impact?\n",
    "\n",
    "Are there any insights that lead to negative growth? Justify with specific reason."
   ]
  },
  {
   "cell_type": "markdown",
   "metadata": {
    "id": "3cspy4FjqxJW"
   },
   "source": [
    "Business Impact:\n",
    "\n",
    "✅ Positive: Helps target ads/promotions to price-sensitive customers.\n",
    "\n",
    "❌ Negative: Too many high-cost places may deter budget customers."
   ]
  },
  {
   "cell_type": "markdown",
   "metadata": {
    "id": "KSlN3yHqYklG"
   },
   "source": [
    "#### Chart - 2"
   ]
  },
  {
   "cell_type": "code",
   "execution_count": null,
   "metadata": {
    "id": "R4YgtaqtYklH"
   },
   "outputs": [],
   "source": [
    "#Chart 2: Top 10 Most Common Cuisines\n",
    "\n",
    "\n",
    "cuisine_list = restaurant_df['Cuisines'].str.split(', ')\n",
    "flat_cuisines = [item for sublist in cuisine_list for item in sublist]\n",
    "top_cuisines = Counter(flat_cuisines).most_common(10)\n",
    "\n",
    "cuisines, counts = zip(*top_cuisines)\n",
    "\n",
    "plt.figure(figsize=(10,6))\n",
    "sns.barplot(x=list(counts), y=list(cuisines), palette=\"viridis\")\n",
    "plt.title('Top 10 Most Common Cuisines')\n",
    "plt.xlabel('Count')\n",
    "plt.ylabel('Cuisine')\n",
    "plt.show()\n"
   ]
  },
  {
   "cell_type": "markdown",
   "metadata": {
    "id": "t6dVpIINYklI"
   },
   "source": [
    "##### 1. Why did you pick the specific chart?"
   ]
  },
  {
   "cell_type": "markdown",
   "metadata": {
    "id": "5aaW0BYyYklI"
   },
   "source": [
    " Shows cuisine preference trends.\n"
   ]
  },
  {
   "cell_type": "markdown",
   "metadata": {
    "id": "ijmpgYnKYklI"
   },
   "source": [
    "##### 2. What is/are the insight(s) found from the chart?"
   ]
  },
  {
   "cell_type": "markdown",
   "metadata": {
    "id": "PSx9atu2YklI"
   },
   "source": [
    " Indicates what cuisines are trending."
   ]
  },
  {
   "cell_type": "code",
   "execution_count": null,
   "metadata": {
    "id": "4JEQb2PvE6_V"
   },
   "outputs": [],
   "source": [
    "##Insight\n",
    "top_cuisine=cuisines[np.argmax(counts)]\n",
    "print(top_cuisine,\"cuisine is in most trending\")"
   ]
  },
  {
   "cell_type": "markdown",
   "metadata": {
    "id": "-JiQyfWJYklI"
   },
   "source": [
    "##### 3. Will the gained insights help creating a positive business impact?\n",
    "Are there any insights that lead to negative growth? Justify with specific reason."
   ]
  },
  {
   "cell_type": "markdown",
   "metadata": {
    "id": "BcBbebzrYklV"
   },
   "source": [
    "\n",
    "Business Impact:\n",
    "\n",
    "✅ Positive: Help onboard restaurants with popular cuisines.\n",
    "\n",
    "❌ Negative: Overrepresentation of few cuisines limits diversity."
   ]
  },
  {
   "cell_type": "markdown",
   "metadata": {
    "id": "EM7whBJCYoAo"
   },
   "source": [
    "#### Chart 3: Count of Restaurants per Collection"
   ]
  },
  {
   "cell_type": "code",
   "execution_count": null,
   "metadata": {
    "id": "t6GMdE67YoAp"
   },
   "outputs": [],
   "source": [
    "#Chart 3: Count of Restaurants per Collection\n",
    "collections_count = restaurant_df['Collections'].value_counts().head(10)\n",
    "\n",
    "plt.figure(figsize=(10,6))\n",
    "sns.barplot(x=collections_count.values, y=collections_count.index, palette=\"coolwarm\")\n",
    "plt.title(\"Top 10 Restaurant Collections\")\n",
    "plt.xlabel(\"Number of Restaurants\")\n",
    "plt.ylabel(\"Collections\")\n",
    "plt.show()\n"
   ]
  },
  {
   "cell_type": "markdown",
   "metadata": {
    "id": "fge-S5ZAYoAp"
   },
   "source": [
    "##### 1. Why did you pick the specific chart?"
   ]
  },
  {
   "cell_type": "markdown",
   "metadata": {
    "id": "5dBItgRVYoAp"
   },
   "source": [
    " Shows what themes or types of dining experiences are most frequent."
   ]
  },
  {
   "cell_type": "markdown",
   "metadata": {
    "id": "85gYPyotYoAp"
   },
   "source": [
    "##### 2. What is/are the insight(s) found from the chart?\n",
    "\n",
    " Determines focus areas (e.g., \"Date Night\", \"Trending\")."
   ]
  },
  {
   "cell_type": "code",
   "execution_count": null,
   "metadata": {
    "id": "tWxy-C8hPLsw"
   },
   "outputs": [],
   "source": [
    "##iInsight\n",
    "print(\"most frequent collectios are:\\n\",collections_count.index)\n"
   ]
  },
  {
   "cell_type": "markdown",
   "metadata": {
    "id": "RoGjAbkUYoAp"
   },
   "source": [
    "##### 3. Will the gained insights help creating a positive business impact?\n",
    "\n"
   ]
  },
  {
   "cell_type": "markdown",
   "metadata": {
    "id": "zfJ8IqMcYoAp"
   },
   "source": [
    "Business Impact:\n",
    "\n",
    "✅ Positive: Useful for content curation and marketing.\n",
    "\n",
    "❌ Negative: Underrepresented collections may go unnoticed."
   ]
  },
  {
   "cell_type": "markdown",
   "metadata": {
    "id": "4Of9eVA-YrdM"
   },
   "source": [
    "#### Chart - 4 Average Cost by Cuisine (Top 10)"
   ]
  },
  {
   "cell_type": "code",
   "execution_count": null,
   "metadata": {
    "id": "irlUoxc8YrdO"
   },
   "outputs": [],
   "source": [
    "# Chart 4: Average Cost by Cuisine (Top 10)\n",
    "cuisine_cost = []\n",
    "for cuisines, cost in zip(restaurant_df['Cuisines'], restaurant_df['Cost']):\n",
    "    for cuisine in cuisines.split(', '):\n",
    "        cuisine_cost.append((cuisine, cost))\n",
    "\n",
    "df_cuisine_cost = pd.DataFrame(cuisine_cost, columns=['Cuisine', 'Cost'])\n",
    "avg_cost = df_cuisine_cost.groupby('Cuisine')['Cost'].mean().sort_values(ascending=False).head(10)\n",
    "\n",
    "plt.figure(figsize=(10,6))\n",
    "avg_cost.plot(kind='barh', color='green')\n",
    "plt.title('Top 10 Cuisines by Average Cost')\n",
    "plt.xlabel('Average Cost')\n",
    "plt.gca().invert_yaxis()\n",
    "plt.show()\n"
   ]
  },
  {
   "cell_type": "markdown",
   "metadata": {
    "id": "iky9q4vBYrdO"
   },
   "source": [
    "##### 1. Why did you pick the specific chart?"
   ]
  },
  {
   "cell_type": "markdown",
   "metadata": {
    "id": "aJRCwT6DYrdO"
   },
   "source": [
    "Understand cost dynamics across cuisines."
   ]
  },
  {
   "cell_type": "markdown",
   "metadata": {
    "id": "F6T5p64dYrdO"
   },
   "source": [
    "##### 2. What is/are the insight(s) found from the chart?\n"
   ]
  },
  {
   "cell_type": "markdown",
   "metadata": {
    "id": "Xx8WAJvtYrdO"
   },
   "source": [
    "Reveals which cuisines are premium vs. budget."
   ]
  },
  {
   "cell_type": "markdown",
   "metadata": {
    "id": "y-Ehk30pYrdP"
   },
   "source": [
    "##### 3. Will the gained insights help creating a positive business impact?\n",
    "\n",
    "\n",
    "\n"
   ]
  },
  {
   "cell_type": "markdown",
   "metadata": {
    "id": "jLNxxz7MYrdP"
   },
   "source": [
    "Business Impact:\n",
    "\n",
    "✅ Positive: Align pricing strategy by cuisine.\n",
    "\n",
    "❌ Negative: Mispricing can lead to poor conversions."
   ]
  },
  {
   "cell_type": "markdown",
   "metadata": {
    "id": "bamQiAODYuh1"
   },
   "source": [
    "#### Chart - 5 Number of Pictures Posted per Review (Distribution)"
   ]
  },
  {
   "cell_type": "code",
   "execution_count": null,
   "metadata": {
    "id": "TIJwrbroYuh3"
   },
   "outputs": [],
   "source": [
    "#Chart 5: Number of Pictures Posted per Review (Distribution)\n",
    "plt.figure(figsize=(10,6))\n",
    "sns.histplot(review_df['Pictures'], bins=15, kde=True, color='purple')\n",
    "plt.title('Distribution of Number of Pictures per Review')\n",
    "plt.xlabel('Number of Pictures')\n",
    "plt.ylabel('Number of Reviews')\n",
    "plt.grid(True)\n",
    "plt.show()\n"
   ]
  },
  {
   "cell_type": "markdown",
   "metadata": {
    "id": "QHF8YVU7Yuh3"
   },
   "source": [
    "##### 1. Why did you pick the specific chart?"
   ]
  },
  {
   "cell_type": "markdown",
   "metadata": {
    "id": "dcxuIMRPYuh3"
   },
   "source": [
    "Measures visual content engagement."
   ]
  },
  {
   "cell_type": "markdown",
   "metadata": {
    "id": "GwzvFGzlYuh3"
   },
   "source": [
    "##### 2. What is/are the insight(s) found from the chart?"
   ]
  },
  {
   "cell_type": "markdown",
   "metadata": {
    "id": "uyqkiB8YYuh3"
   },
   "source": [
    " Are users uploading images?"
   ]
  },
  {
   "cell_type": "markdown",
   "metadata": {
    "id": "qYpmQ266Yuh3"
   },
   "source": [
    "##### 3. Will the gained insights help creating a positive business impact?\n",
    "Are there any insights that lead to negative growth? Justify with specific reason."
   ]
  },
  {
   "cell_type": "markdown",
   "metadata": {
    "id": "_WtzZ_hCYuh4"
   },
   "source": [
    "Business Impact:\n",
    "\n",
    "✅ Positive: Images drive engagement.\n",
    "\n",
    "❌ Negative: Low picture count → reduced trust factor."
   ]
  },
  {
   "cell_type": "markdown",
   "metadata": {
    "id": "OH-pJp9IphqM"
   },
   "source": [
    "#### Chart - 6 Top 10 Most Reviewed Restaurants"
   ]
  },
  {
   "cell_type": "code",
   "execution_count": null,
   "metadata": {
    "id": "kuRf4wtuphqN"
   },
   "outputs": [],
   "source": [
    "# Chart - 6 Top 10 Most Reviewed Restaurants\n",
    "top_reviewed = unique_rows_in_review_df['Restaurant'].value_counts().head(10)\n",
    "\n",
    "plt.figure(figsize=(10,6))\n",
    "sns.barplot(x=top_reviewed.values, y=top_reviewed.index, palette=\"mako\")\n",
    "plt.title('Top 10 Most Reviewed Restaurants')\n",
    "plt.xlabel('Number of Reviews')\n",
    "plt.ylabel('Restaurant')\n",
    "plt.show()\n",
    "\n"
   ]
  },
  {
   "cell_type": "markdown",
   "metadata": {
    "id": "bbFf2-_FphqN"
   },
   "source": [
    "##### 1. Why did you pick the specific chart?"
   ]
  },
  {
   "cell_type": "markdown",
   "metadata": {
    "id": "loh7H2nzphqN"
   },
   "source": [
    "Answer Here."
   ]
  },
  {
   "cell_type": "markdown",
   "metadata": {
    "id": "_ouA3fa0phqN"
   },
   "source": [
    "##### 2. What is/are the insight(s) found from the chart?"
   ]
  },
  {
   "cell_type": "code",
   "execution_count": null,
   "metadata": {
    "id": "FKIwgpWPQgtw"
   },
   "outputs": [],
   "source": [
    "##Insight\n",
    "\n",
    "print(\"top 10 most Reviewed restorents are:\\n\",top_reviewed.index)"
   ]
  },
  {
   "cell_type": "markdown",
   "metadata": {
    "id": "Seke61FWphqN"
   },
   "source": [
    "##### 3. Will the gained insights help creating a positive business impact?\n",
    "Are there any insights that lead to negative growth? Justify with specific reason."
   ]
  },
  {
   "cell_type": "markdown",
   "metadata": {
    "id": "DW4_bGpfphqN"
   },
   "source": [
    "Answer Here"
   ]
  },
  {
   "cell_type": "markdown",
   "metadata": {
    "id": "PIIx-8_IphqN"
   },
   "source": [
    "#### Chart - 7  Sentiment Distribution of Reviews"
   ]
  },
  {
   "cell_type": "code",
   "execution_count": null,
   "metadata": {
    "id": "lqAIGUfyphqO"
   },
   "outputs": [],
   "source": [
    "# Chart - 7 visualization code\n",
    "\n",
    "\n",
    "def get_sentiment(text):\n",
    "    polarity = TextBlob(text).sentiment.polarity\n",
    "    if polarity > 0: return 'Positive'\n",
    "    elif polarity < 0: return 'Negative'\n",
    "    else: return 'Neutral'\n",
    "\n",
    "unique_rows_in_review_df['Sentiment'] = unique_rows_in_review_df['Review'].apply(get_sentiment)\n",
    "\n",
    "plt.figure(figsize=(8,6))\n",
    "sns.countplot(x='Sentiment', data=unique_rows_in_review_df, palette='Set2')\n",
    "plt.title('Sentiment Distribution of Reviews')\n",
    "plt.xlabel('Sentiment')\n",
    "plt.ylabel('Number of Reviews')\n",
    "plt.show()\n"
   ]
  },
  {
   "cell_type": "markdown",
   "metadata": {
    "id": "t27r6nlMphqO"
   },
   "source": [
    "##### 1. Why did you pick the specific chart?"
   ]
  },
  {
   "cell_type": "markdown",
   "metadata": {
    "id": "iv6ro40sphqO"
   },
   "source": [
    "Understand customer mood."
   ]
  },
  {
   "cell_type": "markdown",
   "metadata": {
    "id": "r2jJGEOYphqO"
   },
   "source": [
    "##### 2. What is/are the insight(s) found from the chart?"
   ]
  },
  {
   "cell_type": "markdown",
   "metadata": {
    "id": "Po6ZPi4hphqO"
   },
   "source": [
    "Overall public sentiment."
   ]
  },
  {
   "cell_type": "code",
   "execution_count": null,
   "metadata": {
    "id": "UJlYpFGLTEoU"
   },
   "outputs": [],
   "source": [
    "senti_df=unique_rows_in_review_df['Sentiment'].value_counts().head()\n",
    "most_common_sentiment = senti_df.idxmax()\n",
    "print(\"Over all public mood is :\",most_common_sentiment )"
   ]
  },
  {
   "cell_type": "markdown",
   "metadata": {
    "id": "b0JNsNcRphqO"
   },
   "source": [
    "##### 3. Will the gained insights help creating a positive business impact?\n",
    "Are there any insights that lead to negative growth? Justify with specific reason."
   ]
  },
  {
   "cell_type": "markdown",
   "metadata": {
    "id": "xvSq8iUTphqO"
   },
   "source": [
    "Business Impact:\n",
    "\n",
    "✅ Positive: Positive sentiment boosts conversions.\n",
    "\n",
    "❌ Negative: Excessive negative sentiment → trust issues."
   ]
  },
  {
   "cell_type": "markdown",
   "metadata": {
    "id": "BZR9WyysphqO"
   },
   "source": [
    "#### Chart - 8 Word Cloud of Review Text"
   ]
  },
  {
   "cell_type": "code",
   "execution_count": null,
   "metadata": {
    "id": "TdPTWpAVphqO"
   },
   "outputs": [],
   "source": [
    "# Chart - 8 Word Cloud of Review Text\n",
    "\n",
    "from wordcloud import WordCloud\n",
    "text = ' '.join(unique_rows_in_review_df['Review'].dropna().tolist())\n",
    "\n",
    "wordcloud = WordCloud(width=800, height=400, background_color='white').generate(text)\n",
    "\n",
    "plt.figure(figsize=(10,5))\n",
    "plt.imshow(wordcloud, interpolation='bilinear')\n",
    "plt.axis('off')\n",
    "plt.title('Word Cloud of Reviews')\n",
    "plt.show()\n"
   ]
  },
  {
   "cell_type": "markdown",
   "metadata": {
    "id": "jj7wYXLtphqO"
   },
   "source": [
    "##### 1. Why did you pick the specific chart?"
   ]
  },
  {
   "cell_type": "markdown",
   "metadata": {
    "id": "Ob8u6rCTphqO"
   },
   "source": [
    " Visualize most used terms."
   ]
  },
  {
   "cell_type": "markdown",
   "metadata": {
    "id": "eZrbJ2SmphqO"
   },
   "source": [
    "##### 2. What is/are the insight(s) found from the chart?"
   ]
  },
  {
   "cell_type": "code",
   "execution_count": null,
   "metadata": {
    "id": "E3Lsk68JTjL5"
   },
   "outputs": [],
   "source": [
    "word_list = list(wordcloud.words_.keys())\n",
    "print(\"Top 10 most used terms in revies : \\n\", word_list[:10])  # Top 10 words"
   ]
  },
  {
   "cell_type": "markdown",
   "metadata": {
    "id": "mZtgC_hjphqO"
   },
   "source": [
    "\n",
    "Insight: Keyword trends in customer feedback."
   ]
  },
  {
   "cell_type": "markdown",
   "metadata": {
    "id": "rFu4xreNphqO"
   },
   "source": [
    "##### 3. Will the gained insights help creating a positive business impact?\n",
    "Are there any insights that lead to negative growth? Justify with specific reason."
   ]
  },
  {
   "cell_type": "markdown",
   "metadata": {
    "id": "ey_0qi68phqO"
   },
   "source": [
    "Business Impact:\n",
    "\n",
    "✅ Positive: Surface customer priorities.\n",
    "\n",
    "❌ Negative: Repetitive negative terms signal service gaps.\n",
    "\n"
   ]
  },
  {
   "cell_type": "markdown",
   "metadata": {
    "id": "YJ55k-q6phqO"
   },
   "source": [
    "#### Chart - 9 Rating Distribution"
   ]
  },
  {
   "cell_type": "code",
   "execution_count": null,
   "metadata": {
    "id": "B2aS4O1ophqO"
   },
   "outputs": [],
   "source": [
    "# Chart - 9 Rating Distribution\n",
    "plt.figure(figsize=(8,6))\n",
    "sns.countplot(x='Rating', data=unique_rows_in_review_df, order=unique_rows_in_review_df['Rating'].value_counts().index)\n",
    "plt.title('Rating Distribution')\n",
    "plt.xlabel('Rating')\n",
    "plt.ylabel('Number of Reviews')\n",
    "plt.show()\n"
   ]
  },
  {
   "cell_type": "markdown",
   "metadata": {
    "id": "gCFgpxoyphqP"
   },
   "source": [
    "##### 1. Why did you pick the specific chart?"
   ]
  },
  {
   "cell_type": "markdown",
   "metadata": {
    "id": "TVxDimi2phqP"
   },
   "source": [
    "Why chosen: Shows general satisfaction levels.\n"
   ]
  },
  {
   "cell_type": "markdown",
   "metadata": {
    "id": "OVtJsKN_phqQ"
   },
   "source": [
    "##### 2. What is/are the insight(s) found from the chart?"
   ]
  },
  {
   "cell_type": "markdown",
   "metadata": {
    "id": "ngGi97qjphqQ"
   },
   "source": [
    " Skewness in ratings (e.g., many 5-stars)?\n"
   ]
  },
  {
   "cell_type": "code",
   "execution_count": null,
   "metadata": {
    "id": "8V24pTsdUzJq"
   },
   "outputs": [],
   "source": [
    "rating_df=unique_rows_in_review_df['Rating'].value_counts().head()\n",
    "most_rating = rating_df.idxmax()\n",
    "print(f\"most reviewers give {most_rating} star ratings\")"
   ]
  },
  {
   "cell_type": "markdown",
   "metadata": {
    "id": "lssrdh5qphqQ"
   },
   "source": [
    "##### 3. Will the gained insights help creating a positive business impact?\n",
    "Are there any insights that lead to negative growth? Justify with specific reason."
   ]
  },
  {
   "cell_type": "markdown",
   "metadata": {
    "id": "tBpY5ekJphqQ"
   },
   "source": [
    "Business Impact:\n",
    "\n",
    "✅ Positive: High ratings validate restaurant performance.\n",
    "\n",
    "❌ Negative: Too many 5-star reviews might raise suspicion."
   ]
  },
  {
   "cell_type": "markdown",
   "metadata": {
    "id": "U2RJ9gkRphqQ"
   },
   "source": [
    "#### Chart - 10 Number of Reviews per Reviewer (Distribution)"
   ]
  },
  {
   "cell_type": "code",
   "execution_count": null,
   "metadata": {
    "id": "GM7a4YP4phqQ"
   },
   "outputs": [],
   "source": [
    "# Chart - 10 Number of Reviews per Reviewer (Distribution)\n",
    "plt.figure(figsize=(10,6))\n",
    "sns.histplot(unique_rows_in_review_df['Reviewer_Reviews'], bins=20, kde=True)\n",
    "plt.title('Distribution of Number of Reviews per Reviewer')\n",
    "plt.xlabel('Review Count')\n",
    "plt.ylabel('Reviewer Count')\n",
    "plt.show()\n"
   ]
  },
  {
   "cell_type": "markdown",
   "metadata": {
    "id": "1M8mcRywphqQ"
   },
   "source": [
    "##### 1. Why did you pick the specific chart?"
   ]
  },
  {
   "cell_type": "markdown",
   "metadata": {
    "id": "8agQvks0phqQ"
   },
   "source": [
    "Understand reviewer activity."
   ]
  },
  {
   "cell_type": "markdown",
   "metadata": {
    "id": "tgIPom80phqQ"
   },
   "source": [
    "##### 2. What is/are the insight(s) found from the chart?"
   ]
  },
  {
   "cell_type": "markdown",
   "metadata": {
    "id": "Qp13pnNzphqQ"
   },
   "source": [
    "Shows platform dependency on few vs. many users."
   ]
  },
  {
   "cell_type": "markdown",
   "metadata": {
    "id": "JMzcOPDDphqR"
   },
   "source": [
    "##### 3. Will the gained insights help creating a positive business impact?\n",
    "Are there any insights that lead to negative growth? Justify with specific reason."
   ]
  },
  {
   "cell_type": "markdown",
   "metadata": {
    "id": "R4Ka1PC2phqR"
   },
   "source": [
    "Business Impact:\n",
    "\n",
    "✅ Positive: Strong reviewer base.\n",
    "\n",
    "❌ Negative: Few super-reviewers may skew trends."
   ]
  },
  {
   "cell_type": "markdown",
   "metadata": {
    "id": "x-EpHcCOp1ci"
   },
   "source": [
    "#### Chart - 11 Reviewer Followers (Distribution)"
   ]
  },
  {
   "cell_type": "code",
   "execution_count": null,
   "metadata": {
    "id": "mAQTIvtqp1cj"
   },
   "outputs": [],
   "source": [
    "#  Chart 11 - Reviewer Followers (Distribution)\n",
    "plt.figure(figsize=(8,4))\n",
    "sns.histplot(unique_rows_in_review_df['Reviewer_Followers'], bins=20, kde=True, color='teal')\n",
    "plt.title('Distribution of Reviewer Followers')\n",
    "plt.xlabel('Followers')\n",
    "plt.ylabel('Reviewer Count')\n",
    "plt.show()\n"
   ]
  },
  {
   "cell_type": "markdown",
   "metadata": {
    "id": "X_VqEhTip1ck"
   },
   "source": [
    "##### 1. Why did you pick the specific chart?"
   ]
  },
  {
   "cell_type": "markdown",
   "metadata": {
    "id": "-vsMzt_np1ck"
   },
   "source": [
    "Highlights influencer presence."
   ]
  },
  {
   "cell_type": "markdown",
   "metadata": {
    "id": "8zGJKyg5p1ck"
   },
   "source": [
    "##### 2. What is/are the insight(s) found from the chart?"
   ]
  },
  {
   "cell_type": "markdown",
   "metadata": {
    "id": "ZYdMsrqVp1ck"
   },
   "source": [
    "Who’s influencing the public view?"
   ]
  },
  {
   "cell_type": "markdown",
   "metadata": {
    "id": "PVzmfK_Ep1ck"
   },
   "source": [
    "##### 3. Will the gained insights help creating a positive business impact?\n",
    "Are there any insights that lead to negative growth? Justify with specific reason."
   ]
  },
  {
   "cell_type": "markdown",
   "metadata": {
    "id": "druuKYZpp1ck"
   },
   "source": [
    "Business Impact:\n",
    "\n",
    "✅ Positive: Boost high-follower reviews.\n",
    "\n",
    "❌ Negative: Fake followers can mislead."
   ]
  },
  {
   "cell_type": "markdown",
   "metadata": {
    "id": "n3dbpmDWp1ck"
   },
   "source": [
    "#### Chart - 12 Heatmap of Review Counts vs Rating"
   ]
  },
  {
   "cell_type": "code",
   "execution_count": null,
   "metadata": {
    "id": "bwevp1tKp1ck"
   },
   "outputs": [],
   "source": [
    "# Chart - 12 Heatmap of Review Counts vs Rating\n",
    "heat_df = unique_rows_in_review_df.groupby(['Restaurant', 'Rating']).size().unstack().fillna(0)\n",
    "\n",
    "plt.figure(figsize=(12,8))\n",
    "sns.heatmap(heat_df, cmap='YlGnBu')\n",
    "plt.title('Heatmap of Review Counts vs Rating')\n",
    "plt.xlabel('Rating')\n",
    "plt.ylabel('Restaurant')\n",
    "plt.show()\n"
   ]
  },
  {
   "cell_type": "markdown",
   "metadata": {
    "id": "ylSl6qgtp1ck"
   },
   "source": [
    "##### 1. Why did you pick the specific chart?"
   ]
  },
  {
   "cell_type": "markdown",
   "metadata": {
    "id": "m2xqNkiQp1ck"
   },
   "source": [
    "Combine volume and satisfaction."
   ]
  },
  {
   "cell_type": "markdown",
   "metadata": {
    "id": "ZWILFDl5p1ck"
   },
   "source": [
    "##### 2. What is/are the insight(s) found from the chart?"
   ]
  },
  {
   "cell_type": "markdown",
   "metadata": {
    "id": "x-lUsV2mp1ck"
   },
   "source": [
    "Popular + high-rated = trusted brands."
   ]
  },
  {
   "cell_type": "markdown",
   "metadata": {
    "id": "M7G43BXep1ck"
   },
   "source": [
    "##### 3. Will the gained insights help creating a positive business impact?\n",
    "Are there any insights that lead to negative growth? Justify with specific reason."
   ]
  },
  {
   "cell_type": "markdown",
   "metadata": {
    "id": "5wwDJXsLp1cl"
   },
   "source": [
    "Business Impact:\n",
    "\n",
    "✅ Positive: Target high traffic, well-rated places.\n",
    "\n",
    "❌ Negative: High volume, low rating = risk area."
   ]
  },
  {
   "cell_type": "markdown",
   "metadata": {
    "id": "Ag9LCva-p1cl"
   },
   "source": [
    "#### Chart - 13 Time of Review Posting"
   ]
  },
  {
   "cell_type": "code",
   "execution_count": null,
   "metadata": {
    "id": "EUfxeq9-p1cl"
   },
   "outputs": [],
   "source": [
    "# Chart - 13 Time of Review Posting\n",
    "review_df['Time'] = pd.to_datetime(review_df['Time'], errors='coerce')\n",
    "review_df['Hour'] = review_df['Time'].dt.hour\n",
    "\n",
    "plt.figure(figsize=(10,6))\n",
    "sns.histplot(review_df['Hour'].dropna(), bins=24, kde=True)\n",
    "plt.title('Time of Day When Reviews Are Posted')\n",
    "plt.xlabel('Hour of Day')\n",
    "plt.ylabel('Number of Reviews')\n",
    "plt.grid(True)\n",
    "plt.show()\n"
   ]
  },
  {
   "cell_type": "markdown",
   "metadata": {
    "id": "E6MkPsBcp1cl"
   },
   "source": [
    "##### 1. Why did you pick the specific chart?"
   ]
  },
  {
   "cell_type": "markdown",
   "metadata": {
    "id": "V22bRsFWp1cl"
   },
   "source": [
    "See when users are most active."
   ]
  },
  {
   "cell_type": "markdown",
   "metadata": {
    "id": "2cELzS2fp1cl"
   },
   "source": [
    "##### 2. What is/are the insight(s) found from the chart?"
   ]
  },
  {
   "cell_type": "markdown",
   "metadata": {
    "id": "ozQPc2_Ip1cl"
   },
   "source": [
    "Discover user behavior."
   ]
  },
  {
   "cell_type": "markdown",
   "metadata": {
    "id": "3MPXvC8up1cl"
   },
   "source": [
    "##### 3. Will the gained insights help creating a positive business impact?\n",
    "Are there any insights that lead to negative growth? Justify with specific reason."
   ]
  },
  {
   "cell_type": "markdown",
   "metadata": {
    "id": "GL8l1tdLp1cl"
   },
   "source": [
    "Business Impact:\n",
    "\n",
    "✅ Positive: Post promotions during peak times.\n",
    "\n",
    "❌ Negative: Inactive hours = inefficient content push."
   ]
  },
  {
   "cell_type": "markdown",
   "metadata": {
    "id": "NC_X3p0fY2L0"
   },
   "source": [
    "#### Chart - 14 - Correlation Heatmap"
   ]
  },
  {
   "cell_type": "code",
   "execution_count": null,
   "metadata": {
    "id": "xyC9zolEZNRQ"
   },
   "outputs": [],
   "source": [
    "# Correlation Heatmap visualization code\n",
    "\n",
    "# Select only numeric columns from the review dataset\n",
    "numeric_cols = unique_rows_in_review_df[['Pictures', 'Reviewer_Reviews', 'Reviewer_Followers']]\n",
    "\n",
    "# Compute correlation matrix\n",
    "corr_matrix = numeric_cols.corr()\n",
    "\n",
    "# Plot heatmap\n",
    "plt.figure(figsize=(8,6))\n",
    "sns.heatmap(corr_matrix, annot=True, cmap='coolwarm', fmt=\".2f\", linewidths=0.5)\n",
    "plt.title('Correlation Heatmap of Reviewer Features')\n",
    "plt.show()\n"
   ]
  },
  {
   "cell_type": "markdown",
   "metadata": {
    "id": "UV0SzAkaZNRQ"
   },
   "source": [
    "##### 1. Why did you pick the specific chart?"
   ]
  },
  {
   "cell_type": "markdown",
   "metadata": {
    "id": "DVPuT8LYZNRQ"
   },
   "source": [
    "To understand how numerical features (e.g., Pictures, Reviewer_Reviews, Reviewer_Followers) relate to each other. It's a diagnostic tool to explore feature importance or redundancy."
   ]
  },
  {
   "cell_type": "markdown",
   "metadata": {
    "id": "YPEH6qLeZNRQ"
   },
   "source": [
    "##### 2. What is/are the insight(s) found from the chart?"
   ]
  },
  {
   "cell_type": "markdown",
   "metadata": {
    "id": "bfSqtnDqZNRR"
   },
   "source": [
    "Insight it gives:\n",
    "\n",
    "Detects whether reviewers with more followers post more pictures.\n",
    "\n",
    "Finds any relationships (positive or negative) among variables."
   ]
  },
  {
   "cell_type": "markdown",
   "metadata": {
    "id": "q29F0dvdveiT"
   },
   "source": [
    "#### Chart - 15 - Pair Plot"
   ]
  },
  {
   "cell_type": "code",
   "execution_count": null,
   "metadata": {
    "id": "o58-TEIhveiU"
   },
   "outputs": [],
   "source": [
    "# Pair Plot visualization code\n",
    "\n",
    "# Combine relevant numerical columns from both dataframes\n",
    "pairplot_df = restaurant_df[['Cost']].copy()\n",
    "pairplot_df['Pictures'] = pd.Series(unique_rows_in_review_df['Pictures'].values)\n",
    "pairplot_df['Reviewer_Reviews'] =pd.Series( unique_rows_in_review_df['Reviewer_Reviews'].values)\n",
    "pairplot_df['Reviewer_Followers'] = pd.Series(unique_rows_in_review_df['Reviewer_Followers'].values)\n",
    "\n",
    "# Optional: filter out extreme outliers for clearer visualization\n",
    "pairplot_df = pairplot_df[(pairplot_df['Cost'] < 3000) &\n",
    "                          (pairplot_df['Reviewer_Reviews'] < 1000) &\n",
    "                          (pairplot_df['Reviewer_Followers'] < 5000) &\n",
    "                          (pairplot_df['Pictures'] < 20)]\n",
    "\n",
    "# Create pair plot\n",
    "sns.pairplot(pairplot_df, diag_kind='kde', plot_kws={'alpha':0.6, 's':40, 'edgecolor':'k'})\n",
    "plt.suptitle('Pair Plot: Cost, Pictures, Reviews & Followers', y=1.02)\n",
    "plt.show()\n"
   ]
  },
  {
   "cell_type": "markdown",
   "metadata": {
    "id": "EXh0U9oCveiU"
   },
   "source": [
    "##### 1. Why did you pick the specific chart?"
   ]
  },
  {
   "cell_type": "markdown",
   "metadata": {
    "id": "eMmPjTByveiU"
   },
   "source": [
    "Pair plots are used to explore relationships between multiple numerical variables in a single glance using scatterplots, histograms, and KDEs. It’s useful for detecting trends, outliers, and correlations."
   ]
  },
  {
   "cell_type": "markdown",
   "metadata": {
    "id": "22aHeOlLveiV"
   },
   "source": [
    "##### 2. What is/are the insight(s) found from the chart?"
   ]
  },
  {
   "cell_type": "markdown",
   "metadata": {
    "id": "uPQ8RGwHveiV"
   },
   "source": [
    "It can show how numerical variables like Cost, Reviewer_Reviews, Reviewer_Followers, and Pictures interact with each other — which pairs have potential linear or non-linear relationships."
   ]
  },
  {
   "cell_type": "markdown",
   "metadata": {
    "id": "g-ATYxFrGrvw"
   },
   "source": [
    "## ***5. Hypothesis Testing***"
   ]
  },
  {
   "cell_type": "markdown",
   "metadata": {
    "id": "Yfr_Vlr8HBkt"
   },
   "source": [
    "### Based on your chart experiments, define three hypothetical statements from the dataset. In the next three questions, perform hypothesis testing to obtain final conclusion about the statements through your code and statistical testing."
   ]
  },
  {
   "cell_type": "markdown",
   "metadata": {
    "id": "-7MS06SUHkB-"
   },
   "source": [
    "\n",
    "✅ If p-value < 0.05 → Reject the null hypothesis → There is a statistically significant effect/relationship.\n",
    "\n",
    "\n",
    "❌ If p-value ≥ 0.05 → Fail to reject the null → There is no statistically significant effect/relationship.Answer Here.\n"
   ]
  },
  {
   "cell_type": "code",
   "execution_count": null,
   "metadata": {
    "id": "DxfMAJua3uju"
   },
   "outputs": [],
   "source": [
    "#function for checking p value which is responsible for Stating rearch hypothesis..\n",
    "def print_Stating_rearch_hypothesis(p_val, h_0, h_1):\n",
    "  if float(p_val) < 0.05:\n",
    "    print(h_0)\n",
    "  else:\n",
    "    print(h_1)\n"
   ]
  },
  {
   "cell_type": "markdown",
   "metadata": {
    "id": "8yEUt7NnHlrM"
   },
   "source": [
    "### Hypothetical Statement - 1\n",
    "\n",
    "Hypothesis: Higher-rated restaurants tend to be more expensive."
   ]
  },
  {
   "cell_type": "markdown",
   "metadata": {
    "id": "tEA2Xm5dHt1r"
   },
   "source": [
    "#### 1. State Your research hypothesis as a null hypothesis and alternate hypothesis."
   ]
  },
  {
   "cell_type": "markdown",
   "metadata": {
    "id": "HI9ZP0laH0D-"
   },
   "source": [
    "1. Null Hypothesis (H₀):\n",
    "There is no significant difference in cost between high-rated and low-rated restaurants.\n",
    "\n",
    "2. Alternative Hypothesis (H₁):\n",
    "High-rated restaurants have significantly higher average cost than low-rated restaurants.\n",
    "\n"
   ]
  },
  {
   "cell_type": "code",
   "execution_count": null,
   "metadata": {
    "id": "VK-zoQKW4bmX"
   },
   "outputs": [],
   "source": [
    "H_0= \"There is no significant difference in cost between high-rated and low-rated restaurants.\"\n",
    "\n",
    "H_1= \"High-rated restaurants have significantly higher average cost than low-rated restaurants.\""
   ]
  },
  {
   "cell_type": "markdown",
   "metadata": {
    "id": "I79__PHVH19G"
   },
   "source": [
    "#### 2. Perform an appropriate statistical test."
   ]
  },
  {
   "cell_type": "code",
   "execution_count": null,
   "metadata": {
    "id": "oZrfquKtyian"
   },
   "outputs": [],
   "source": [
    "# Perform Statistical Test to obtain P-Value\n",
    "from scipy.stats import ttest_ind\n",
    "\n",
    "\n",
    "# Convert rating to numeric\n",
    "unique_rows_in_review_df['Rating'] = pd.to_numeric(unique_rows_in_review_df['Rating'], errors='coerce')\n",
    "\n",
    "# Merge rating into restaurant_df by Restaurant Name (or use mapping if not merging)\n",
    "merged_df = pd.merge(restaurant_df, unique_rows_in_review_df[['Restaurant', 'Rating']], left_on='Name', right_on='Restaurant', how='inner')\n",
    "\n",
    "# Group: High-rated (>=4.0), Low-rated (<4.0)\n",
    "high_rated = merged_df[merged_df['Rating'] >= 4.0]['Cost']\n",
    "low_rated = merged_df[merged_df['Rating'] < 4.0]['Cost']\n",
    "\n",
    "# Perform t-test\n",
    "t_stat, p_value = ttest_ind(high_rated, low_rated, nan_policy='omit')\n",
    "print(f\"P-Value: {(p_value)}\")"
   ]
  },
  {
   "cell_type": "markdown",
   "metadata": {
    "id": "Ou-I18pAyIpj"
   },
   "source": [
    "##### Which statistical test have you done to obtain P-Value?"
   ]
  },
  {
   "cell_type": "markdown",
   "metadata": {
    "id": "s2U0kk00ygSB"
   },
   "source": [
    "Independent t-test (2 groups)\n",
    "\n",
    "We’ll first:\n",
    "\n",
    "Classify restaurants as high-rated (e.g., rating ≥ 4.0) and low-rated (< 4.0)\n",
    "\n",
    "Compare their average cost"
   ]
  },
  {
   "cell_type": "markdown",
   "metadata": {
    "id": "fF3858GYyt-u"
   },
   "source": [
    "##### Why did you choose the specific statistical test?"
   ]
  },
  {
   "cell_type": "markdown",
   "metadata": {
    "id": "HO4K0gP5y3B4"
   },
   "source": [
    "we're comparing means of two independent groups (high vs low rated) on a numerical outcome (Cost)."
   ]
  },
  {
   "cell_type": "code",
   "execution_count": null,
   "metadata": {
    "id": "whQYzkQe5q4t"
   },
   "outputs": [],
   "source": [
    "# print Stating rearch  hypothesis\n",
    "print_Stating_rearch_hypothesis(p_value,H_0,H_1)"
   ]
  },
  {
   "cell_type": "markdown",
   "metadata": {
    "id": "4_0_7-oCpUZd"
   },
   "source": [
    "### Hypothetical Statement - 2\n",
    "\n",
    "\n",
    "Hypothesis: There is a relationship between the type of cuisine and the average restaurant rating."
   ]
  },
  {
   "cell_type": "markdown",
   "metadata": {
    "id": "hwyV_J3ipUZe"
   },
   "source": [
    "#### 1. State Your research hypothesis as a null hypothesis and alternate hypothesis."
   ]
  },
  {
   "cell_type": "markdown",
   "metadata": {
    "id": "FnpLGJ-4pUZe"
   },
   "source": [
    "1. Null Hypothesis (H₀):\n",
    "Cuisine type has no impact on average rating.\n",
    "\n",
    "2. Alternative Hypothesis (H₁):\n",
    "Cuisine type affects average rating."
   ]
  },
  {
   "cell_type": "code",
   "execution_count": null,
   "metadata": {
    "id": "blCN9LiH5FJI"
   },
   "outputs": [],
   "source": [
    "H_0= \"Cuisine type has no impact on average rating.\"\n",
    "\n",
    "H_1= \"Cuisine type affects average rating.\""
   ]
  },
  {
   "cell_type": "markdown",
   "metadata": {
    "id": "3yB-zSqbpUZe"
   },
   "source": [
    "#### 2. Perform an appropriate statistical test."
   ]
  },
  {
   "cell_type": "code",
   "execution_count": null,
   "metadata": {
    "id": "sWxdNTXNpUZe"
   },
   "outputs": [],
   "source": [
    "# Perform Statistical Test to obtain P-Value\n",
    "from scipy.stats import f_oneway\n",
    "\n",
    "# Merge Rating into restaurant_df\n",
    "merged_df = pd.merge(restaurant_df, review_df[['Restaurant', 'Rating']], left_on='Name', right_on='Restaurant', how='inner')\n",
    "merged_df['Rating'] = pd.to_numeric(merged_df['Rating'], errors='coerce')\n",
    "\n",
    "# Group samples by cuisines\n",
    "italian = merged_df[merged_df['Cuisines'].str.contains('Italian', na=False)]['Rating'].dropna()\n",
    "indian = merged_df[merged_df['Cuisines'].str.contains('Indian', na=False)]['Rating'].dropna()\n",
    "chinese = merged_df[merged_df['Cuisines'].str.contains('Chinese', na=False)]['Rating'].dropna()\n",
    "\n",
    "# Perform ANOVA\n",
    "f_stat, p_value = f_oneway(italian, indian, chinese)\n",
    "print(f\"P-Value: {p_value}\")\n"
   ]
  },
  {
   "cell_type": "markdown",
   "metadata": {
    "id": "dEUvejAfpUZe"
   },
   "source": [
    "##### Which statistical test have you done to obtain P-Value?"
   ]
  },
  {
   "cell_type": "markdown",
   "metadata": {
    "id": "oLDrPz7HpUZf"
   },
   "source": [
    "ANOVA (Analysis of Variance)\n",
    "\n",
    "Compare ratings across 3 or more cuisine types"
   ]
  },
  {
   "cell_type": "markdown",
   "metadata": {
    "id": "Fd15vwWVpUZf"
   },
   "source": [
    "##### Why did you choose the specific statistical test?"
   ]
  },
  {
   "cell_type": "markdown",
   "metadata": {
    "id": "4xOGYyiBpUZf"
   },
   "source": [
    "You’re comparing mean rating across 3+ groups (different cuisine types)."
   ]
  },
  {
   "cell_type": "code",
   "execution_count": null,
   "metadata": {
    "id": "knhxmiNM5yu6"
   },
   "outputs": [],
   "source": [
    "# print Stating rearch  hypothesis\n",
    "print_Stating_rearch_hypothesis(p_value,H_0,H_1)"
   ]
  },
  {
   "cell_type": "markdown",
   "metadata": {
    "id": "bn_IUdTipZyH"
   },
   "source": [
    "### Hypothetical Statement - 3\n",
    "\n",
    "Hypothesis:  we’re comparing mean rating across 3+ groups (different cuisine types)."
   ]
  },
  {
   "cell_type": "markdown",
   "metadata": {
    "id": "49K5P_iCpZyH"
   },
   "source": [
    "#### 1. State Your research hypothesis as a null hypothesis and alternate hypothesis."
   ]
  },
  {
   "cell_type": "markdown",
   "metadata": {
    "id": "7gWI5rT9pZyH"
   },
   "source": [
    "1. Null Hypothesis (H₀):\n",
    "There is no relationship between number of followers and number of reviews.\n",
    "\n",
    "2. Alternative Hypothesis (H₁):\n",
    "There is a significant correlation between number of followers and reviews posted."
   ]
  },
  {
   "cell_type": "code",
   "execution_count": null,
   "metadata": {
    "id": "j9KO52Ic5OjZ"
   },
   "outputs": [],
   "source": [
    "H_0= \"There is no relationship between number of followers and number of reviews.\"\n",
    "\n",
    "H1= \"There is a significant correlation between number of followers and reviews posted.\""
   ]
  },
  {
   "cell_type": "markdown",
   "metadata": {
    "id": "Nff-vKELpZyI"
   },
   "source": [
    "#### 2. Perform an appropriate statistical test."
   ]
  },
  {
   "cell_type": "code",
   "execution_count": null,
   "metadata": {
    "id": "s6AnJQjtpZyI"
   },
   "outputs": [],
   "source": [
    "# Perform Statistical Test to obtain P-Value\n",
    "from scipy.stats import pearsonr\n",
    "\n",
    "followers = unique_rows_in_review_df['Reviewer_Followers']\n",
    "review_count = unique_rows_in_review_df['Reviewer_Reviews']\n",
    "\n",
    "corr_coef, p_value = pearsonr(followers, review_count)\n",
    "print(f\"Correlation Coefficient: {corr_coef}\")\n",
    "print(f\"P-Value: {p_value}\")\n"
   ]
  },
  {
   "cell_type": "markdown",
   "metadata": {
    "id": "kLW572S8pZyI"
   },
   "source": [
    "##### Which statistical test have you done to obtain P-Value?"
   ]
  },
  {
   "cell_type": "markdown",
   "metadata": {
    "id": "ytWJ8v15pZyI"
   },
   "source": [
    "Pearson Correlation"
   ]
  },
  {
   "cell_type": "markdown",
   "metadata": {
    "id": "dWbDXHzopZyI"
   },
   "source": [
    "##### Why did you choose the specific statistical test?"
   ]
  },
  {
   "cell_type": "markdown",
   "metadata": {
    "id": "M99G98V6pZyI"
   },
   "source": [
    "You’re testing for linear correlation between two continuous variables (followers & reviews)."
   ]
  },
  {
   "cell_type": "code",
   "execution_count": null,
   "metadata": {
    "id": "SdPZ7OBO52v4"
   },
   "outputs": [],
   "source": [
    "print_Stating_rearch_hypothesis(p_value,H_0,H_1)"
   ]
  },
  {
   "cell_type": "markdown",
   "metadata": {
    "id": "Iwf50b-R2tYG"
   },
   "source": [
    "## ***6. Textual Data Preprocessing***\n",
    "\n",
    "(It's mandatory for textual dataset i.e., NLP, Sentiment Analysis, Text Clustering etc.)"
   ]
  },
  {
   "cell_type": "markdown",
   "metadata": {
    "id": "GMQiZwjn3iu7"
   },
   "source": [
    "#### 1. Expand Contraction"
   ]
  },
  {
   "cell_type": "code",
   "execution_count": null,
   "metadata": {
    "id": "TnmxBubHWQIf"
   },
   "outputs": [],
   "source": [
    "!pip install contractions\n",
    "from nltk.stem import WordNetLemmatizer\n",
    "\n",
    "nltk.download('wordnet')\n",
    "\n",
    "stop_words = set(stopwords.words('english'))\n",
    "lemmatizer = WordNetLemmatizer()"
   ]
  },
  {
   "cell_type": "code",
   "execution_count": null,
   "metadata": {
    "id": "PTouz10C3oNN"
   },
   "outputs": [],
   "source": [
    "# Expand Contraction\n",
    "\n",
    "import contractions\n",
    "def expand_contractions(text):\n",
    "    return contractions.fix(text)\n"
   ]
  },
  {
   "cell_type": "markdown",
   "metadata": {
    "id": "pxPWU78NGhst"
   },
   "source": []
  },
  {
   "cell_type": "markdown",
   "metadata": {
    "id": "WVIkgGqN3qsr"
   },
   "source": [
    "#### 2. Lower Casing"
   ]
  },
  {
   "cell_type": "code",
   "execution_count": null,
   "metadata": {
    "id": "88JnJ1jN3w7j"
   },
   "outputs": [],
   "source": [
    "# Lower Casing\n",
    "def to_lowercase(text):\n",
    "    return text.lower()\n"
   ]
  },
  {
   "cell_type": "markdown",
   "metadata": {
    "id": "XkPnILGE3zoT"
   },
   "source": [
    "#### 3. Removing Punctuations"
   ]
  },
  {
   "cell_type": "code",
   "execution_count": null,
   "metadata": {
    "id": "vqbBqNaA33c0"
   },
   "outputs": [],
   "source": [
    "# Remove Punctuations\n",
    "\n",
    "def remove_punctuation(text):\n",
    "    return text.translate(str.maketrans('', '', string.punctuation))\n"
   ]
  },
  {
   "cell_type": "markdown",
   "metadata": {
    "id": "Hlsf0x5436Go"
   },
   "source": [
    "#### 4. Removing URLs & Removing words and digits contain digits."
   ]
  },
  {
   "cell_type": "code",
   "execution_count": null,
   "metadata": {
    "id": "2sxKgKxu4Ip3"
   },
   "outputs": [],
   "source": [
    "# Remove URLs & Remove words and digits contain digits\n",
    "\n",
    "def remove_urls_and_alnum(text):\n",
    "    text = re.sub(r'http\\S+|www\\S+|https\\S+', '', text, flags=re.MULTILINE)  # URLs\n",
    "    text = re.sub(r'\\w*\\d\\w*', '', text)  # Words with digits\n",
    "    return text\n"
   ]
  },
  {
   "cell_type": "markdown",
   "metadata": {
    "id": "mT9DMSJo4nBL"
   },
   "source": [
    "#### 5. Removing Stopwords & Removing White spaces"
   ]
  },
  {
   "cell_type": "code",
   "execution_count": null,
   "metadata": {
    "id": "T2LSJh154s8W"
   },
   "outputs": [],
   "source": [
    "# Remove Stopwords\n",
    "\n",
    "stopwords=nltk.download('stopwords')\n",
    "from nltk.corpus import stopwords\n",
    "stop_words = set(stopwords.words('english'))\n",
    "\n",
    "def remove_stopwords(text):\n",
    "    return ' '.join([word for word in text.split() if word not in stop_words])\n",
    "\n"
   ]
  },
  {
   "cell_type": "code",
   "execution_count": null,
   "metadata": {
    "id": "EgLJGffy4vm0"
   },
   "outputs": [],
   "source": [
    "# Remove White spaces\n",
    "\n",
    "def remove_extra_whitespace(text):\n",
    "    return ' '.join(text.split())"
   ]
  },
  {
   "cell_type": "markdown",
   "metadata": {
    "id": "c49ITxTc407N"
   },
   "source": [
    "#### 6. Rephrase Text"
   ]
  },
  {
   "cell_type": "code",
   "execution_count": null,
   "metadata": {
    "id": "foqY80Qu48N2"
   },
   "outputs": [],
   "source": [
    "# Rephrase Text\n",
    "import nltk\n",
    "from nltk.stem import WordNetLemmatizer\n",
    "lemmatizer = WordNetLemmatizer()\n",
    "\n",
    "def lemmatize_text(text):\n",
    "    return ' '.join([lemmatizer.lemmatize(word) for word in text.split()])\n"
   ]
  },
  {
   "cell_type": "markdown",
   "metadata": {
    "id": "OeJFEK0N496M"
   },
   "source": [
    "#### 7. Tokenization"
   ]
  },
  {
   "cell_type": "code",
   "execution_count": null,
   "metadata": {
    "id": "ijx1rUOS5CUU"
   },
   "outputs": [],
   "source": [
    "# Tokenization\n",
    "from nltk.tokenize import word_tokenize\n",
    "\n",
    "def tokenize_text(text):\n",
    "    return word_tokenize(text)\n"
   ]
  },
  {
   "cell_type": "markdown",
   "metadata": {
    "id": "9ExmJH0g5HBk"
   },
   "source": [
    "#### 8. Text Normalization"
   ]
  },
  {
   "cell_type": "code",
   "execution_count": null,
   "metadata": {
    "id": "AIJ1a-Zc5PY8"
   },
   "outputs": [],
   "source": [
    "# Normalizing Text (i.e., Stemming, Lemmatization etc.)\n",
    "def normalize_text(text):\n",
    "    text = expand_contractions(text)\n",
    "    text = to_lowercase(text)\n",
    "    text = remove_punctuation(text)\n",
    "    text = remove_urls_and_alnum(text)\n",
    "    text = remove_stopwords(text)\n",
    "    text = remove_extra_whitespace(text)\n",
    "    text = lemmatize_text(text)\n",
    "    return text\n"
   ]
  },
  {
   "cell_type": "markdown",
   "metadata": {
    "id": "cJNqERVU536h"
   },
   "source": [
    "##### Which text normalization technique have you used and why?"
   ]
  },
  {
   "cell_type": "markdown",
   "metadata": {
    "id": "Z9jKVxE06BC1"
   },
   "source": [
    "Answer Here."
   ]
  },
  {
   "cell_type": "markdown",
   "metadata": {
    "id": "k5UmGsbsOxih"
   },
   "source": [
    "#### 9. Part of speech tagging"
   ]
  },
  {
   "cell_type": "code",
   "execution_count": null,
   "metadata": {
    "id": "btT3ZJBAO6Ik"
   },
   "outputs": [],
   "source": [
    "# POS Taging\n",
    "def pos_tagging(text):\n",
    "    tokens = word_tokenize(text)\n",
    "    return nltk.pos_tag(tokens)\n"
   ]
  },
  {
   "cell_type": "markdown",
   "metadata": {
    "id": "T0VqWOYE6DLQ"
   },
   "source": [
    "#### 10. Text Vectorization"
   ]
  },
  {
   "cell_type": "code",
   "execution_count": null,
   "metadata": {
    "id": "yBRtdhth6JDE"
   },
   "outputs": [],
   "source": [
    "# # Vectorizing Text\n",
    "# from sklearn.feature_extraction.text import TfidfVectorizer\n",
    "\n",
    "# tfidf_vectorizer = TfidfVectorizer(max_features=1000)\n",
    "\n",
    "# X_tfidf = tfidf_vectorizer.fit_transform(df['Cleaned_Review'])  # after applying normalize_text()\n"
   ]
  },
  {
   "cell_type": "code",
   "execution_count": null,
   "metadata": {
    "id": "FUiiG_ppVHpb"
   },
   "outputs": [],
   "source": [
    "# Apply to review data\n",
    "unique_rows_in_review_df['Cleaned_Review'] = unique_rows_in_review_df['Review'].apply(normalize_text)"
   ]
  },
  {
   "cell_type": "code",
   "execution_count": null,
   "metadata": {
    "id": "JXCyW4UWYA_d"
   },
   "outputs": [],
   "source": [
    "from textblob import TextBlob\n",
    "\n",
    "def get_sentiment_score(text):\n",
    "    return TextBlob(text).sentiment.polarity  # Range: [-1, 1]\n",
    "\n",
    "unique_rows_in_review_df['Sentiment_Score'] = unique_rows_in_review_df['Cleaned_Review'].apply(get_sentiment_score)\n"
   ]
  },
  {
   "cell_type": "markdown",
   "metadata": {
    "id": "VfCC591jGiD4"
   },
   "source": [
    "## ***7. ML Model Implementation***"
   ]
  },
  {
   "cell_type": "markdown",
   "metadata": {
    "id": "LPSbeIWnNAoc"
   },
   "source": [
    "# Silhouette score\n",
    "\n",
    "Value Range:\n",
    "-1 (worst) to +1 (best)\n",
    "\n",
    "Score\tInterpretation\n",
    "\n",
    "~0.71 – 1.00\tExcellent clustering\n",
    "\n",
    "~0.51 – 0.70\tGood\n",
    "\n",
    "~0.26 – 0.50\tReasonable\n",
    "\n",
    "~0.00 – 0.25\tWeak structure\n",
    "\n",
    "< 0\tBad clustering (wrong cluster assignment)\n",
    "\n",
    "\n",
    "# Davies bouldin score\n",
    "Value Range:\n",
    "0 (perfect clustering) to ∞ (worse)\n",
    "\n",
    "Score\tInterpretation\n",
    "\n",
    "0 - 1\tVery good clustering\n",
    "\n",
    "1 - 2\tAcceptable\n",
    "\n",
    "<  2  Poor clustering"
   ]
  },
  {
   "cell_type": "markdown",
   "metadata": {
    "id": "OB4l2ZhMeS1U"
   },
   "source": [
    "### ML Model - 1 Preparing clustering on the restaurant data:"
   ]
  },
  {
   "cell_type": "code",
   "execution_count": null,
   "metadata": {
    "id": "jOVsJ4ZmCkv8"
   },
   "outputs": [],
   "source": [
    "# Let's begin by preparing clustering on the restaurant data using:\n",
    "# - Pricing (Cost)\n",
    "# - Sentiment (aggregated Sentiment_Score from review dataset)\n",
    "# - Popularity (number of reviews per restaurant)\n",
    "\n",
    "\n",
    "# STEP 1: Aggregate reviews to get average sentiment and review count per restaurant\n",
    "review_agg = unique_rows_in_review_df.groupby('Restaurant').agg({\n",
    "    'Sentiment_Score': 'mean',\n",
    "    'Review': 'count'\n",
    "}).reset_index().rename(columns={\n",
    "    'Sentiment_Score': 'Avg_Sentiment',\n",
    "    'Review': 'Review_Count'\n",
    "})\n",
    "\n",
    "# STEP 2: Merge with restaurant data\n",
    "merged_df = pd.merge(restaurant_df, review_agg, left_on='Name', right_on='Restaurant', how='inner')\n",
    "\n",
    "# STEP 3: Select and preprocess features for clustering\n",
    "clustering_features = merged_df[['Cost', 'Avg_Sentiment', 'Review_Count']].dropna()\n",
    "\n",
    "# Scaling the features\n",
    "scaler = StandardScaler()\n",
    "scaled_features = scaler.fit_transform(clustering_features)"
   ]
  },
  {
   "cell_type": "code",
   "execution_count": null,
   "metadata": {
    "id": "7ebyywQieS1U"
   },
   "outputs": [],
   "source": [
    "# Store clustering results and scores\n",
    "results = {}\n",
    "\n",
    "# ML Model - 1 Implementation\n",
    "# ----------- KMeans Clustering ---------------\n",
    "kmeans = KMeans(n_clusters=3, random_state=42)\n",
    "# Fit the Algorithm +  Predict on the model\n",
    "kmeans_labels = kmeans.fit_predict(scaled_features)\n",
    "\n",
    "results['KMeans'] = {\n",
    "    'labels': kmeans_labels,\n",
    "    'silhouette_score': silhouette_score(scaled_features, kmeans_labels),\n",
    "    'davies_bouldin_score': davies_bouldin_score(scaled_features, kmeans_labels)\n",
    "}\n",
    "\n",
    "\n",
    "print(f\"silhouette_score:{silhouette_score(scaled_features, kmeans_labels):.4f}\\n\")\n",
    "print(f\"davies_bouldin_score:{ davies_bouldin_score(scaled_features, kmeans_labels):.4f}\")\n"
   ]
  },
  {
   "cell_type": "markdown",
   "metadata": {
    "id": "ArJBuiUVfxKd"
   },
   "source": [
    "#### 1. Explain the ML Model used and it's performance using Evaluation metric Score Chart."
   ]
  },
  {
   "cell_type": "code",
   "execution_count": null,
   "metadata": {
    "id": "rqD5ZohzfxKe"
   },
   "outputs": [],
   "source": [
    "# Visualizing evaluation Metric Score chart\n",
    "cluster_insights = {\n",
    "    0: \"High-cost, Italian, romantic restaurants, very positive sentiment\",\n",
    "    1: \"Budget Indian fast food with mixed reviews\",\n",
    "    2: \"Cafes in popular collections with high picture uploads (trendy)\"\n",
    "}\n",
    "\n",
    "\n",
    "# Add labels to dataframe for visualization\n",
    "clustering_features['KMeans_Cluster'] = kmeans_labels\n",
    "\n",
    "# Pairplot for KMeans clustering\n",
    "sns.pairplot(clustering_features, hue='KMeans_Cluster', palette='Set1')\n",
    "plt.suptitle('KMeans Clustering of Restaurants (Pricing, Sentiment, Popularity)', y=1.02)\n",
    "plt.legend( labels=cluster_insights)\n",
    "plt.show()\n",
    "plt.clf()\n",
    "plt.close('all')\n",
    "import matplotlib.patches as mpatches\n",
    "\n",
    "# Create custom legend handles\n",
    "handles = [\n",
    "    mpatches.Patch(color=sns.color_palette('Set2')[i], label=f'Cluster {i}: {desc}')\n",
    "    for i, desc in cluster_insights.items()\n",
    "]\n",
    "plt.legend(handles=handles, title=\" Insights\", bbox_to_anchor=(1.05, 1), loc='upper left')\n",
    "plt.tight_layout()\n",
    "\n",
    "\n",
    "# Add the custom legend\n",
    "\n",
    "\n"
   ]
  },
  {
   "cell_type": "markdown",
   "metadata": {
    "id": "dJ2tPlVmpsJ0"
   },
   "source": [
    "### ML Model - 2"
   ]
  },
  {
   "cell_type": "code",
   "execution_count": null,
   "metadata": {
    "id": "ipNz8iG6Eyo_"
   },
   "outputs": [],
   "source": [
    "# ----------- DBSCAN Clustering ---------------\n",
    "dbscan = DBSCAN(eps=0.8, min_samples=5)\n",
    "\n",
    "# Fit the Algorithm + Predict on the model\n",
    "dbscan_labels = dbscan.fit_predict(scaled_features)\n",
    "\n",
    "# Exclude noise (-1) for silhouette score\n",
    "if len(set(dbscan_labels)) > 1 and -1 not in set(dbscan_labels):\n",
    "    dbscan_sil_score = silhouette_score(scaled_features, dbscan_labels)\n",
    "    dbscan_db_score = davies_bouldin_score(scaled_features, dbscan_labels)\n",
    "else:\n",
    "    dbscan_sil_score = None\n",
    "    dbscan_db_score = None\n",
    "\n",
    "results['DBSCAN'] = {\n",
    "    'labels': dbscan_labels,\n",
    "    'silhouette_score': dbscan_sil_score,\n",
    "    'davies_bouldin_score': dbscan_db_score\n",
    "}\n"
   ]
  },
  {
   "cell_type": "markdown",
   "metadata": {
    "id": "JWYfwnehpsJ1"
   },
   "source": [
    "#### 1. Explain the ML Model used and it's performance using Evaluation metric Score Chart."
   ]
  },
  {
   "cell_type": "code",
   "execution_count": null,
   "metadata": {
    "id": "Ojxqr94WGu40"
   },
   "outputs": [],
   "source": [
    "# Visualizing evaluation Metric Score chart\n",
    "\n",
    "# Add labels to dataframe for visualization\n",
    "clustering_features['DBSCAN_Cluster'] = dbscan_labels\n",
    "\n",
    "# Pairplot for KMeans clustering\n",
    "sns.pairplot(clustering_features, hue='DBSCAN_Cluster', palette='Set1')\n",
    "plt.suptitle('DBSCAN Clustering of Restaurants (Pricing, Sentiment, Popularity)', y=1.02)\n",
    "plt.show()"
   ]
  },
  {
   "cell_type": "markdown",
   "metadata": {
    "id": "Fze-IPXLpx6K"
   },
   "source": [
    "### ML Model - 3"
   ]
  },
  {
   "cell_type": "code",
   "execution_count": null,
   "metadata": {
    "id": "FFrSXAtrpx6M"
   },
   "outputs": [],
   "source": [
    "# ML Model - 3 Implementation\n",
    "\n",
    "# ----------- Hierarchical Clustering (Agglomerative) ---------------\n",
    "agglo = AgglomerativeClustering(n_clusters=3)\n",
    "# Fit the Algorithm + Predict on the model\n",
    "agglo_labels = agglo.fit_predict(scaled_features)\n",
    "\n",
    "results['Agglomerative'] = {\n",
    "    'labels': agglo_labels,\n",
    "    'silhouette_score': silhouette_score(scaled_features, agglo_labels),\n",
    "    'davies_bouldin_score': davies_bouldin_score(scaled_features, agglo_labels)\n",
    "}\n",
    "\n",
    "print(f\"silhouette_score:{silhouette_score(scaled_features, agglo_labels):.4f}\\n\")\n",
    "print(f\"davies_bouldin_score:{ davies_bouldin_score(scaled_features, agglo_labels):.4f}\")"
   ]
  },
  {
   "cell_type": "markdown",
   "metadata": {
    "id": "7AN1z2sKpx6M"
   },
   "source": [
    "#### 1. Explain the ML Model used and it's performance using Evaluation metric Score Chart."
   ]
  },
  {
   "cell_type": "code",
   "execution_count": null,
   "metadata": {
    "id": "xIY4lxxGpx6M"
   },
   "outputs": [],
   "source": [
    "# Visualizing evaluation Metric Score chart\n",
    "clustering_features['Agglo_Cluster'] = agglo_labels\n",
    "\n",
    "\n",
    "# Pairplot for KMeans clustering\n",
    "sns.pairplot(clustering_features, hue='Agglo_Cluster', palette='Set1')\n",
    "plt.suptitle('Agglo Clustering of Restaurants (Pricing, Sentiment, Popularity)', y=1.02)\n",
    "plt.show()\n",
    "# ======================= EVALUATION RESULTS ============================ #\n",
    "results"
   ]
  },
  {
   "cell_type": "markdown",
   "metadata": {
    "id": "Fjb1IsQkh3yE"
   },
   "source": [
    "# 📌 Conclusion\n",
    "\n",
    "In this project, we explored a dual approach to understand consumer behavior and restaurant segmentation on Zomato using Natural Language Processing (NLP) and unsupervised machine learning techniques.\n",
    "\n",
    "🔹 **Sentiment Analysis**:  \n",
    "We applied sentiment analysis on user reviews to quantify public perception. This helped identify top-rated vs. poorly-rated restaurants based on emotional tone, uncovering valuable insights for both customers and business owners.\n",
    "\n",
    "🔹 **Clustering**:  \n",
    "Using features like cost, cuisine type, popularity indicators (e.g., followers, pictures), and sentiment scores, we clustered restaurants into meaningful segments. We experimented with **KMeans**, **DBSCAN**, and **Hierarchical Clustering**, evaluated performance, and visualized results to find distinct customer and business personas.\n",
    "\n",
    "---\n",
    "\n",
    "### 📊 Key Insights:\n",
    "\n",
    "- High-end restaurants with Italian cuisine and romantic ambiance generally received **very positive feedback**.\n",
    "- Budget-friendly Indian fast food spots had **mixed reviews**, revealing room for improvement.\n",
    "- Trendy cafés in popular collections attracted **a younger, social media-savvy crowd**.\n",
    "\n",
    "---\n",
    "\n",
    "### 💡 Business Impact:\n",
    "\n",
    "- Zomato can personalize recommendations, promotions, and UI placement using these segments.\n",
    "- Restaurants can benchmark themselves against similar clusters to improve competitiveness.\n",
    "- Sentiment tracking enables **early detection of service issues** or **rising customer expectations**.\n",
    "\n",
    "---\n",
    "\n",
    "### 🚀 Future Scope:\n",
    "\n",
    "- Add **topic modeling** (e.g., LDA) to dig deeper into review themes.\n",
    "- Incorporate **geospatial clustering** to factor in location-based preferences.\n",
    "- Build a real-time dashboard for restaurants and Zomato stakeholders.\n",
    "\n",
    "---\n"
   ]
  },
  {
   "cell_type": "markdown",
   "metadata": {
    "id": "gIfDvo9L0UH2"
   },
   "source": [
    "### ***\"Congratulations! You've successfully completed your Machine Learning Capstone Project — uncovering powerful insights through clustering and sentiment analysis.\" !!!***"
   ]
  }
 ],
 "metadata": {
  "accelerator": "GPU",
  "colab": {
   "collapsed_sections": [
    "mDgbUHAGgjLW",
    "bbFf2-_FphqN",
    "Seke61FWphqN",
    "gIfDvo9L0UH2"
   ],
   "gpuType": "T4",
   "private_outputs": true,
   "provenance": []
  },
  "kernelspec": {
   "display_name": "Python 3",
   "name": "python3"
  },
  "language_info": {
   "name": "python"
  }
 },
 "nbformat": 4,
 "nbformat_minor": 0
}
